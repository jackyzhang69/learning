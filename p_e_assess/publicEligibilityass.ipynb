{
 "cells": [
  {
   "cell_type": "markdown",
   "metadata": {},
   "source": [
    "# 资格判断原始数学模型"
   ]
  },
  {
   "cell_type": "code",
   "execution_count": 79,
   "metadata": {},
   "outputs": [],
   "source": [
    "from itertools import chain"
   ]
  },
  {
   "cell_type": "markdown",
   "metadata": {},
   "source": [
    "## 定义人的条件 "
   ]
  },
  {
   "cell_type": "code",
   "execution_count": 75,
   "metadata": {},
   "outputs": [],
   "source": [
    "pj={'clb':6,'edu':2,'we':0}  # 一个人的条件。 person jason data structure"
   ]
  },
  {
   "cell_type": "markdown",
   "metadata": {},
   "source": [
    "## 定义所有项目"
   ]
  },
  {
   "cell_type": "code",
   "execution_count": 76,
   "metadata": {},
   "outputs": [],
   "source": [
    "all_programs=[]\n",
    "bc_programs=['bcsw','bcig','bcesll','bceesw','bceeig']\n",
    "ab_programs=['aos','aee']"
   ]
  },
  {
   "cell_type": "code",
   "execution_count": 80,
   "metadata": {},
   "outputs": [
    {
     "name": "stdout",
     "output_type": "stream",
     "text": [
      "['bcsw', 'bcig', 'bcesll', 'bceesw', 'bceeig', 'aos', 'aee']\n"
     ]
    }
   ],
   "source": [
    "all_programs=list(chain(bc_programs,ab_programs))\n",
    "print(all_programs)"
   ]
  },
  {
   "cell_type": "code",
   "execution_count": 81,
   "metadata": {},
   "outputs": [
    {
     "name": "stdout",
     "output_type": "stream",
     "text": [
      "<class 'list'>\n"
     ]
    }
   ],
   "source": [
    "print(type(all_programs))"
   ]
  },
  {
   "cell_type": "markdown",
   "metadata": {},
   "source": [
    "## 定义每个项目资质要求"
   ]
  },
  {
   "cell_type": "code",
   "execution_count": 3,
   "metadata": {},
   "outputs": [],
   "source": [
    "class Bcsw():\n",
    "    \n",
    "    def __init__(self,pj):\n",
    "        self.pj=pj\n",
    "        \n",
    "        \n",
    "    def eligible(self):\n",
    "        result_clb=True\n",
    "        result_edu=True\n",
    "        result_we=True\n",
    "        \n",
    "        result_clb=False if self.pj['clb']<5 else True\n",
    "        result_edu=Faslse if self.pj['edu']<1 else True\n",
    "        result_we=False if self.pj['we']<1 else True\n",
    "        \n",
    "        eligibility=result_clb & result_edu & result_we\n",
    "        \n",
    "        return eligibility      \n",
    "        "
   ]
  },
  {
   "cell_type": "code",
   "execution_count": 4,
   "metadata": {},
   "outputs": [],
   "source": [
    "class Bcig():\n",
    "    \n",
    "    def __init__(self,pj):\n",
    "        self.pj=pj\n",
    "        \n",
    "        \n",
    "    def eligible(self):\n",
    "        result_clb=True\n",
    "        result_edu=True\n",
    "\n",
    "        result_clb=False if self.pj['clb']<5 else True\n",
    "        result_edu=Faslse if self.pj['edu']<2 else True\n",
    "        \n",
    "        eligibility=result_clb & result_edu\n",
    "        \n",
    "        return eligibility"
   ]
  },
  {
   "cell_type": "markdown",
   "metadata": {},
   "source": [
    "### 项目初始化为空，判断符合项目要求，在set中增加"
   ]
  },
  {
   "cell_type": "code",
   "execution_count": 5,
   "metadata": {},
   "outputs": [],
   "source": [
    "programs=set([])"
   ]
  },
  {
   "cell_type": "code",
   "execution_count": 6,
   "metadata": {},
   "outputs": [
    {
     "name": "stdout",
     "output_type": "stream",
     "text": [
      "nothing\n"
     ]
    }
   ],
   "source": [
    "bcsw=Bcsw(pj)\n",
    "programs.add('bcsw') if bcsw.eligible() else print('nothing')"
   ]
  },
  {
   "cell_type": "code",
   "execution_count": 7,
   "metadata": {},
   "outputs": [
    {
     "data": {
      "text/plain": [
       "True"
      ]
     },
     "execution_count": 7,
     "metadata": {},
     "output_type": "execute_result"
    }
   ],
   "source": [
    "bcig=Bcig(pj)\n",
    "bcig.eligible()"
   ]
  },
  {
   "cell_type": "code",
   "execution_count": 8,
   "metadata": {},
   "outputs": [],
   "source": [
    "programs.add('bcig') if bcig.eligible() else print('nothing')"
   ]
  },
  {
   "cell_type": "code",
   "execution_count": 9,
   "metadata": {},
   "outputs": [
    {
     "data": {
      "text/plain": [
       "{'bcig'}"
      ]
     },
     "execution_count": 9,
     "metadata": {},
     "output_type": "execute_result"
    }
   ],
   "source": [
    "programs"
   ]
  },
  {
   "cell_type": "markdown",
   "metadata": {},
   "source": [
    "### 或者考虑项目初始化为所有，不符合项目要求的，在set中删除"
   ]
  },
  {
   "cell_type": "code",
   "execution_count": 10,
   "metadata": {},
   "outputs": [],
   "source": [
    "programs=set(all_programs)"
   ]
  },
  {
   "cell_type": "code",
   "execution_count": 11,
   "metadata": {},
   "outputs": [],
   "source": [
    "bcsw=Bcsw(pj)\n",
    "bcsw.eligible()\n",
    "programs.remove('bcsw') if not bcsw.eligible() else print('nothing')"
   ]
  },
  {
   "cell_type": "code",
   "execution_count": 12,
   "metadata": {},
   "outputs": [
    {
     "name": "stdout",
     "output_type": "stream",
     "text": [
      "nothing\n"
     ]
    }
   ],
   "source": [
    "bcig=Bcig(pj)\n",
    "bcig.eligible()\n",
    "programs.remove('bcig') if not bcig.eligible() else print('nothing')"
   ]
  },
  {
   "cell_type": "code",
   "execution_count": 13,
   "metadata": {},
   "outputs": [
    {
     "data": {
      "text/plain": [
       "{'bceeig', 'bceesw', 'bcesll', 'bcig'}"
      ]
     },
     "execution_count": 13,
     "metadata": {},
     "output_type": "execute_result"
    }
   ],
   "source": [
    "programs"
   ]
  },
  {
   "cell_type": "markdown",
   "metadata": {},
   "source": [
    "# 同一个人的条件，运用两种方式，一个是从0逐渐增加可能的方式，另一个是从所有的中减去不符合的。"
   ]
  },
  {
   "cell_type": "code",
   "execution_count": null,
   "metadata": {},
   "outputs": [],
   "source": []
  }
 ],
 "metadata": {
  "kernelspec": {
   "display_name": "Python 3.8.2 64-bit",
   "language": "python",
   "name": "python38264bitbd02d76411b64dc7a394c994579e23f1"
  },
  "language_info": {
   "codemirror_mode": {
    "name": "ipython",
    "version": 3
   },
   "file_extension": ".py",
   "mimetype": "text/x-python",
   "name": "python",
   "nbconvert_exporter": "python",
   "pygments_lexer": "ipython3",
   "version": "3.8.3"
  }
 },
 "nbformat": 4,
 "nbformat_minor": 4
}
