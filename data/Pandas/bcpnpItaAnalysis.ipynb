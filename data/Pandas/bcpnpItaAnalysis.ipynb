{
 "cells": [
  {
   "cell_type": "code",
   "execution_count": 114,
   "metadata": {},
   "outputs": [],
   "source": [
    "import pandas as pd\n",
    "from matplotlib import pyplot as plt"
   ]
  },
  {
   "cell_type": "code",
   "execution_count": 115,
   "metadata": {},
   "outputs": [],
   "source": [
    "df=pd.read_excel('itas.xlsx')"
   ]
  },
  {
   "cell_type": "code",
   "execution_count": 116,
   "metadata": {},
   "outputs": [
    {
     "data": {
      "text/plain": [
       "Index(['Date', 'SkillWorker', 'InternationalGraduate', 'EntryLevel',\n",
       "       'EESkillWorker', 'EEInternationalGraduate', 'InvitationNumber',\n",
       "       'TechPilot'],\n",
       "      dtype='object')"
      ]
     },
     "execution_count": 116,
     "metadata": {},
     "output_type": "execute_result"
    }
   ],
   "source": [
    "df.columns"
   ]
  },
  {
   "cell_type": "markdown",
   "metadata": {},
   "source": [
    "### All years' average ITA points"
   ]
  },
  {
   "cell_type": "code",
   "execution_count": 117,
   "metadata": {},
   "outputs": [
    {
     "data": {
      "text/plain": [
       "SkillWorker                88.383333\n",
       "InternationalGraduate      92.816667\n",
       "EntryLevel                 69.150000\n",
       "EESkillWorker              91.325000\n",
       "EEInternationalGraduate    93.608333\n",
       "dtype: float64"
      ]
     },
     "execution_count": 117,
     "metadata": {},
     "output_type": "execute_result"
    }
   ],
   "source": [
    "df.loc[:,'SkillWorker':'EEInternationalGraduate'].mean(0)"
   ]
  },
  {
   "cell_type": "markdown",
   "metadata": {},
   "source": [
    "### 2020 -2018 Regular Average ITA points"
   ]
  },
  {
   "cell_type": "code",
   "execution_count": 159,
   "metadata": {},
   "outputs": [
    {
     "name": "stdout",
     "output_type": "stream",
     "text": [
      "2020-2018 average points\n",
      "[['2020', 101.0, 103.44444444444444, 83.5, 108.66666666666667, 106.33333333333333], ['2019', 93.20833333333333, 99.875, 75.0, 98.875, 101.66666666666667], ['2018', 83.12, 88.32, 59.833333333333336, 86.16, 88.84]]\n",
      "\n",
      "\n"
     ]
    },
    {
     "name": "stderr",
     "output_type": "stream",
     "text": [
      "<ipython-input-159-275f4adbfe52>:8: UserWarning: Boolean Series key will be reindexed to match DataFrame index.\n",
      "  itas=df[(df.Date>=st)&(df.Date<=ed)][df.TechPilot==False].loc[:,cat].mean()\n"
     ]
    }
   ],
   "source": [
    "cats=['SkillWorker','InternationalGraduate','EntryLevel','EESkillWorker','EEInternationalGraduate']\n",
    "all_points_regual=[]\n",
    "for y in ['2020','2019','2018']:\n",
    "    st=y+'-01-01'\n",
    "    ed=y+'12-31'\n",
    "    points=[y] #年份作为新DataFrame的第一列\n",
    "    for cat in cats:\n",
    "        itas=df[(df.Date>=st)&(df.Date<=ed)][df.TechPilot==False].loc[:,cat].mean()\n",
    "        points.append(itas)  # 取出5个分类的分数\n",
    "        #print(cat+\":\"+str(itas))\n",
    "    all_points_regual.append(points) # 取出三年的分数\n",
    "\n",
    "print('2020-2018 average points')\n",
    "print(all_points_regual)\n",
    "print('\\n')"
   ]
  },
  {
   "cell_type": "markdown",
   "metadata": {},
   "source": [
    "### 2020-2018 Tech Pilot  Avearge ITA Points"
   ]
  },
  {
   "cell_type": "code",
   "execution_count": 160,
   "metadata": {},
   "outputs": [
    {
     "name": "stdout",
     "output_type": "stream",
     "text": [
      "2020-2018 average points\n",
      "[['2020', 86.6923076923077, 86.6923076923077, nan, 86.6923076923077, 86.6923076923077], ['2019', 89.20689655172414, 91.62068965517241, nan, 89.41379310344827, 91.79310344827586], ['2018', 83.4, 90.9, 61.25, 86.7, 91.3]]\n",
      "\n",
      "\n"
     ]
    },
    {
     "name": "stderr",
     "output_type": "stream",
     "text": [
      "<ipython-input-160-d1c5f4f97ede>:8: UserWarning: Boolean Series key will be reindexed to match DataFrame index.\n",
      "  itas=df[(df.Date>=st)&(df.Date<=ed)][df.TechPilot==True].loc[:,cat].mean()\n"
     ]
    }
   ],
   "source": [
    "cats=['SkillWorker','InternationalGraduate','EntryLevel','EESkillWorker','EEInternationalGraduate']\n",
    "all_points_techpilot=[]\n",
    "for y in ['2020','2019','2018']:\n",
    "    st=y+'-01-01'\n",
    "    ed=y+'12-31'\n",
    "    points=[y] #年份作为新DataFrame的第一列\n",
    "    for cat in cats:\n",
    "        itas=df[(df.Date>=st)&(df.Date<=ed)][df.TechPilot==True].loc[:,cat].mean()\n",
    "        points.append(itas)  # 取出5个分类的分数\n",
    "        #print(cat+\":\"+str(itas))\n",
    "    all_points_techpilot.append(points) # 取出三年的分数\n",
    "\n",
    "print('2020-2018 average points')\n",
    "print(all_points)\n",
    "print('\\n')"
   ]
  },
  {
   "cell_type": "code",
   "execution_count": null,
   "metadata": {},
   "outputs": [],
   "source": []
  },
  {
   "cell_type": "markdown",
   "metadata": {},
   "source": [
    "### 2018-2020 Tech Pilot 平均ITA分数"
   ]
  },
  {
   "cell_type": "code",
   "execution_count": 161,
   "metadata": {},
   "outputs": [],
   "source": [
    "labels=['Year','SkillWorker','InternationalGraduate','EntryLevel','EESkillWorker','EEInternationalGraduate']\n",
    "avg_df=pd.DataFrame.from_records(all_points_techpilot,columns=labels) # all_points list[][]使用List来生成DataFrame对象"
   ]
  },
  {
   "cell_type": "code",
   "execution_count": 162,
   "metadata": {},
   "outputs": [
    {
     "data": {
      "text/html": [
       "<div>\n",
       "<style scoped>\n",
       "    .dataframe tbody tr th:only-of-type {\n",
       "        vertical-align: middle;\n",
       "    }\n",
       "\n",
       "    .dataframe tbody tr th {\n",
       "        vertical-align: top;\n",
       "    }\n",
       "\n",
       "    .dataframe thead th {\n",
       "        text-align: right;\n",
       "    }\n",
       "</style>\n",
       "<table border=\"1\" class=\"dataframe\">\n",
       "  <thead>\n",
       "    <tr style=\"text-align: right;\">\n",
       "      <th></th>\n",
       "      <th>Year</th>\n",
       "      <th>SkillWorker</th>\n",
       "      <th>InternationalGraduate</th>\n",
       "      <th>EntryLevel</th>\n",
       "      <th>EESkillWorker</th>\n",
       "      <th>EEInternationalGraduate</th>\n",
       "    </tr>\n",
       "  </thead>\n",
       "  <tbody>\n",
       "    <tr>\n",
       "      <th>0</th>\n",
       "      <td>2020</td>\n",
       "      <td>86.692308</td>\n",
       "      <td>86.692308</td>\n",
       "      <td>NaN</td>\n",
       "      <td>86.692308</td>\n",
       "      <td>86.692308</td>\n",
       "    </tr>\n",
       "    <tr>\n",
       "      <th>1</th>\n",
       "      <td>2019</td>\n",
       "      <td>89.206897</td>\n",
       "      <td>91.620690</td>\n",
       "      <td>NaN</td>\n",
       "      <td>89.413793</td>\n",
       "      <td>91.793103</td>\n",
       "    </tr>\n",
       "    <tr>\n",
       "      <th>2</th>\n",
       "      <td>2018</td>\n",
       "      <td>83.400000</td>\n",
       "      <td>90.900000</td>\n",
       "      <td>61.25</td>\n",
       "      <td>86.700000</td>\n",
       "      <td>91.300000</td>\n",
       "    </tr>\n",
       "  </tbody>\n",
       "</table>\n",
       "</div>"
      ],
      "text/plain": [
       "   Year  SkillWorker  InternationalGraduate  EntryLevel  EESkillWorker  \\\n",
       "0  2020    86.692308              86.692308         NaN      86.692308   \n",
       "1  2019    89.206897              91.620690         NaN      89.413793   \n",
       "2  2018    83.400000              90.900000       61.25      86.700000   \n",
       "\n",
       "   EEInternationalGraduate  \n",
       "0                86.692308  \n",
       "1                91.793103  \n",
       "2                91.300000  "
      ]
     },
     "execution_count": 162,
     "metadata": {},
     "output_type": "execute_result"
    }
   ],
   "source": [
    "avg_df"
   ]
  },
  {
   "cell_type": "markdown",
   "metadata": {},
   "source": [
    "### 2018-2020 Regular 平均ITA分数"
   ]
  },
  {
   "cell_type": "code",
   "execution_count": 164,
   "metadata": {},
   "outputs": [],
   "source": [
    "labels=['Year','SkillWorker','InternationalGraduate','EntryLevel','EESkillWorker','EEInternationalGraduate']\n",
    "avg_df=pd.DataFrame.from_records(all_points_regual,columns=labels) # all_points list[][]使用List来生成DataFrame对象"
   ]
  },
  {
   "cell_type": "code",
   "execution_count": 165,
   "metadata": {},
   "outputs": [
    {
     "data": {
      "text/html": [
       "<div>\n",
       "<style scoped>\n",
       "    .dataframe tbody tr th:only-of-type {\n",
       "        vertical-align: middle;\n",
       "    }\n",
       "\n",
       "    .dataframe tbody tr th {\n",
       "        vertical-align: top;\n",
       "    }\n",
       "\n",
       "    .dataframe thead th {\n",
       "        text-align: right;\n",
       "    }\n",
       "</style>\n",
       "<table border=\"1\" class=\"dataframe\">\n",
       "  <thead>\n",
       "    <tr style=\"text-align: right;\">\n",
       "      <th></th>\n",
       "      <th>Year</th>\n",
       "      <th>SkillWorker</th>\n",
       "      <th>InternationalGraduate</th>\n",
       "      <th>EntryLevel</th>\n",
       "      <th>EESkillWorker</th>\n",
       "      <th>EEInternationalGraduate</th>\n",
       "    </tr>\n",
       "  </thead>\n",
       "  <tbody>\n",
       "    <tr>\n",
       "      <th>0</th>\n",
       "      <td>2020</td>\n",
       "      <td>101.000000</td>\n",
       "      <td>103.444444</td>\n",
       "      <td>83.500000</td>\n",
       "      <td>108.666667</td>\n",
       "      <td>106.333333</td>\n",
       "    </tr>\n",
       "    <tr>\n",
       "      <th>1</th>\n",
       "      <td>2019</td>\n",
       "      <td>93.208333</td>\n",
       "      <td>99.875000</td>\n",
       "      <td>75.000000</td>\n",
       "      <td>98.875000</td>\n",
       "      <td>101.666667</td>\n",
       "    </tr>\n",
       "    <tr>\n",
       "      <th>2</th>\n",
       "      <td>2018</td>\n",
       "      <td>83.120000</td>\n",
       "      <td>88.320000</td>\n",
       "      <td>59.833333</td>\n",
       "      <td>86.160000</td>\n",
       "      <td>88.840000</td>\n",
       "    </tr>\n",
       "  </tbody>\n",
       "</table>\n",
       "</div>"
      ],
      "text/plain": [
       "   Year  SkillWorker  InternationalGraduate  EntryLevel  EESkillWorker  \\\n",
       "0  2020   101.000000             103.444444   83.500000     108.666667   \n",
       "1  2019    93.208333              99.875000   75.000000      98.875000   \n",
       "2  2018    83.120000              88.320000   59.833333      86.160000   \n",
       "\n",
       "   EEInternationalGraduate  \n",
       "0               106.333333  \n",
       "1               101.666667  \n",
       "2                88.840000  "
      ]
     },
     "execution_count": 165,
     "metadata": {},
     "output_type": "execute_result"
    }
   ],
   "source": [
    "avg_df"
   ]
  }
 ],
 "metadata": {
  "kernelspec": {
   "display_name": "Python 3.8.2 64-bit",
   "language": "python",
   "name": "python38264bitbd02d76411b64dc7a394c994579e23f1"
  },
  "language_info": {
   "codemirror_mode": {
    "name": "ipython",
    "version": 3
   },
   "file_extension": ".py",
   "mimetype": "text/x-python",
   "name": "python",
   "nbconvert_exporter": "python",
   "pygments_lexer": "ipython3",
   "version": "3.8.3"
  }
 },
 "nbformat": 4,
 "nbformat_minor": 4
}
