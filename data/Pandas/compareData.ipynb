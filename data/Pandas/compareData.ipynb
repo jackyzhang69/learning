{
 "cells": [
  {
   "cell_type": "code",
   "execution_count": 30,
   "metadata": {},
   "outputs": [],
   "source": [
    "import pandas as pd\n",
    "from datetime import datetime"
   ]
  },
  {
   "cell_type": "markdown",
   "metadata": {},
   "source": [
    "### 读取20200609格式数据"
   ]
  },
  {
   "cell_type": "code",
   "execution_count": 85,
   "metadata": {},
   "outputs": [],
   "source": [
    "df=pd.read_csv('itas.txt',parse_dates=['Date'] ) #解释Date字符串为日期"
   ]
  },
  {
   "cell_type": "code",
   "execution_count": 86,
   "metadata": {},
   "outputs": [
    {
     "data": {
      "text/plain": [
       "Timestamp('2018-01-03 00:00:00')"
      ]
     },
     "execution_count": 86,
     "metadata": {},
     "output_type": "execute_result"
    }
   ],
   "source": [
    "df.iloc[0,0]"
   ]
  },
  {
   "cell_type": "code",
   "execution_count": 87,
   "metadata": {},
   "outputs": [],
   "source": [
    "labels=df.columns"
   ]
  },
  {
   "cell_type": "code",
   "execution_count": 88,
   "metadata": {},
   "outputs": [
    {
     "data": {
      "text/html": [
       "<div>\n",
       "<style scoped>\n",
       "    .dataframe tbody tr th:only-of-type {\n",
       "        vertical-align: middle;\n",
       "    }\n",
       "\n",
       "    .dataframe tbody tr th {\n",
       "        vertical-align: top;\n",
       "    }\n",
       "\n",
       "    .dataframe thead th {\n",
       "        text-align: right;\n",
       "    }\n",
       "</style>\n",
       "<table border=\"1\" class=\"dataframe\">\n",
       "  <thead>\n",
       "    <tr style=\"text-align: right;\">\n",
       "      <th></th>\n",
       "      <th>Date</th>\n",
       "      <th>SkillWorker</th>\n",
       "      <th>InternationalGraduate</th>\n",
       "      <th>EntryLevel</th>\n",
       "      <th>EESkillWorker</th>\n",
       "      <th>EEInternationalGraduate</th>\n",
       "      <th>InvitationNumber</th>\n",
       "      <th>TechPilot</th>\n",
       "    </tr>\n",
       "  </thead>\n",
       "  <tbody>\n",
       "    <tr>\n",
       "      <th>0</th>\n",
       "      <td>2018-01-03</td>\n",
       "      <td>75</td>\n",
       "      <td>70</td>\n",
       "      <td>40.0</td>\n",
       "      <td>75</td>\n",
       "      <td>70</td>\n",
       "      <td>340</td>\n",
       "      <td>False</td>\n",
       "    </tr>\n",
       "    <tr>\n",
       "      <th>1</th>\n",
       "      <td>2018-01-17</td>\n",
       "      <td>75</td>\n",
       "      <td>70</td>\n",
       "      <td>40.0</td>\n",
       "      <td>75</td>\n",
       "      <td>70</td>\n",
       "      <td>403</td>\n",
       "      <td>False</td>\n",
       "    </tr>\n",
       "    <tr>\n",
       "      <th>2</th>\n",
       "      <td>2018-01-31</td>\n",
       "      <td>75</td>\n",
       "      <td>70</td>\n",
       "      <td>40.0</td>\n",
       "      <td>75</td>\n",
       "      <td>70</td>\n",
       "      <td>383</td>\n",
       "      <td>False</td>\n",
       "    </tr>\n",
       "    <tr>\n",
       "      <th>3</th>\n",
       "      <td>2018-02-14</td>\n",
       "      <td>80</td>\n",
       "      <td>75</td>\n",
       "      <td>40.0</td>\n",
       "      <td>80</td>\n",
       "      <td>75</td>\n",
       "      <td>339</td>\n",
       "      <td>False</td>\n",
       "    </tr>\n",
       "    <tr>\n",
       "      <th>4</th>\n",
       "      <td>2018-02-28</td>\n",
       "      <td>77</td>\n",
       "      <td>82</td>\n",
       "      <td>40.0</td>\n",
       "      <td>82</td>\n",
       "      <td>82</td>\n",
       "      <td>365</td>\n",
       "      <td>False</td>\n",
       "    </tr>\n",
       "    <tr>\n",
       "      <th>...</th>\n",
       "      <td>...</td>\n",
       "      <td>...</td>\n",
       "      <td>...</td>\n",
       "      <td>...</td>\n",
       "      <td>...</td>\n",
       "      <td>...</td>\n",
       "      <td>...</td>\n",
       "      <td>...</td>\n",
       "    </tr>\n",
       "    <tr>\n",
       "      <th>114</th>\n",
       "      <td>2020-05-07</td>\n",
       "      <td>102</td>\n",
       "      <td>106</td>\n",
       "      <td>83.0</td>\n",
       "      <td>108</td>\n",
       "      <td>106</td>\n",
       "      <td>237</td>\n",
       "      <td>False</td>\n",
       "    </tr>\n",
       "    <tr>\n",
       "      <th>115</th>\n",
       "      <td>2020-05-12</td>\n",
       "      <td>80</td>\n",
       "      <td>80</td>\n",
       "      <td>NaN</td>\n",
       "      <td>80</td>\n",
       "      <td>80</td>\n",
       "      <td>92</td>\n",
       "      <td>True</td>\n",
       "    </tr>\n",
       "    <tr>\n",
       "      <th>116</th>\n",
       "      <td>2020-05-19</td>\n",
       "      <td>100</td>\n",
       "      <td>103</td>\n",
       "      <td>81.0</td>\n",
       "      <td>110</td>\n",
       "      <td>110</td>\n",
       "      <td>170</td>\n",
       "      <td>False</td>\n",
       "    </tr>\n",
       "    <tr>\n",
       "      <th>117</th>\n",
       "      <td>2020-05-26</td>\n",
       "      <td>80</td>\n",
       "      <td>80</td>\n",
       "      <td>NaN</td>\n",
       "      <td>80</td>\n",
       "      <td>80</td>\n",
       "      <td>133</td>\n",
       "      <td>True</td>\n",
       "    </tr>\n",
       "    <tr>\n",
       "      <th>118</th>\n",
       "      <td>2020-06-02</td>\n",
       "      <td>100</td>\n",
       "      <td>100</td>\n",
       "      <td>81.0</td>\n",
       "      <td>105</td>\n",
       "      <td>105</td>\n",
       "      <td>241</td>\n",
       "      <td>False</td>\n",
       "    </tr>\n",
       "  </tbody>\n",
       "</table>\n",
       "<p>119 rows × 8 columns</p>\n",
       "</div>"
      ],
      "text/plain": [
       "          Date  SkillWorker  InternationalGraduate  EntryLevel  EESkillWorker  \\\n",
       "0   2018-01-03           75                     70        40.0             75   \n",
       "1   2018-01-17           75                     70        40.0             75   \n",
       "2   2018-01-31           75                     70        40.0             75   \n",
       "3   2018-02-14           80                     75        40.0             80   \n",
       "4   2018-02-28           77                     82        40.0             82   \n",
       "..         ...          ...                    ...         ...            ...   \n",
       "114 2020-05-07          102                    106        83.0            108   \n",
       "115 2020-05-12           80                     80         NaN             80   \n",
       "116 2020-05-19          100                    103        81.0            110   \n",
       "117 2020-05-26           80                     80         NaN             80   \n",
       "118 2020-06-02          100                    100        81.0            105   \n",
       "\n",
       "     EEInternationalGraduate  InvitationNumber  TechPilot  \n",
       "0                         70               340      False  \n",
       "1                         70               403      False  \n",
       "2                         70               383      False  \n",
       "3                         75               339      False  \n",
       "4                         82               365      False  \n",
       "..                       ...               ...        ...  \n",
       "114                      106               237      False  \n",
       "115                       80                92       True  \n",
       "116                      110               170      False  \n",
       "117                       80               133       True  \n",
       "118                      105               241      False  \n",
       "\n",
       "[119 rows x 8 columns]"
      ]
     },
     "execution_count": 88,
     "metadata": {},
     "output_type": "execute_result"
    }
   ],
   "source": [
    "df"
   ]
  },
  {
   "cell_type": "code",
   "execution_count": 89,
   "metadata": {},
   "outputs": [],
   "source": [
    "cd=[[datetime.strptime('2020-06-09','%Y-%m-%d'),'82','82','82','82','82','87','True']] #解释字符串为日期\n",
    "cdf=pd.DataFrame.from_records(cd, columns=labels)"
   ]
  },
  {
   "cell_type": "code",
   "execution_count": 90,
   "metadata": {},
   "outputs": [
    {
     "data": {
      "text/plain": [
       "Timestamp('2020-06-09 00:00:00')"
      ]
     },
     "execution_count": 90,
     "metadata": {},
     "output_type": "execute_result"
    }
   ],
   "source": [
    "cdf.iloc[0,0]"
   ]
  },
  {
   "cell_type": "code",
   "execution_count": 91,
   "metadata": {},
   "outputs": [
    {
     "data": {
      "text/plain": [
       "Timestamp('2020-06-02 00:00:00')"
      ]
     },
     "execution_count": 91,
     "metadata": {},
     "output_type": "execute_result"
    }
   ],
   "source": [
    "df.iloc[-1,0]"
   ]
  },
  {
   "cell_type": "code",
   "execution_count": 92,
   "metadata": {},
   "outputs": [],
   "source": [
    "if cdf.iloc[0,0] > df.iloc[-1,0]: #比较两个日期\n",
    "    df=df.append(cdf)"
   ]
  },
  {
   "cell_type": "code",
   "execution_count": 93,
   "metadata": {},
   "outputs": [],
   "source": [
    "df['Date']=df['Date'].dt.strftime('%Y%m%d') "
   ]
  },
  {
   "cell_type": "code",
   "execution_count": 94,
   "metadata": {},
   "outputs": [],
   "source": [
    "df.to_csv('itas.txt', mode='w',header=True,index=False)"
   ]
  },
  {
   "cell_type": "code",
   "execution_count": null,
   "metadata": {},
   "outputs": [],
   "source": []
  }
 ],
 "metadata": {
  "kernelspec": {
   "display_name": "Python 3.8.2 64-bit",
   "language": "python",
   "name": "python38264bitbd02d76411b64dc7a394c994579e23f1"
  },
  "language_info": {
   "codemirror_mode": {
    "name": "ipython",
    "version": 3
   },
   "file_extension": ".py",
   "mimetype": "text/x-python",
   "name": "python",
   "nbconvert_exporter": "python",
   "pygments_lexer": "ipython3",
   "version": "3.8.3"
  }
 },
 "nbformat": 4,
 "nbformat_minor": 4
}
